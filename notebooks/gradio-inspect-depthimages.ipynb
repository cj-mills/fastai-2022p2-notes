{
 "cells": [
  {
   "cell_type": "markdown",
   "id": "6437008f",
   "metadata": {},
   "source": [
    "**Install dependencies**"
   ]
  },
  {
   "cell_type": "code",
   "execution_count": 1,
   "id": "4b541f73",
   "metadata": {},
   "outputs": [],
   "source": [
    "# %%capture\n",
    "# !pip install -U pillow gradio numpy pandas\n",
    "# !pip install -U cjm_pil_utils"
   ]
  },
  {
   "cell_type": "markdown",
   "id": "5d9301a6",
   "metadata": {},
   "source": [
    "**Import dependencies**"
   ]
  },
  {
   "cell_type": "code",
   "execution_count": 2,
   "id": "1893bf33",
   "metadata": {},
   "outputs": [],
   "source": [
    "import hashlib\n",
    "from pathlib import Path\n",
    "\n",
    "from PIL import Image\n",
    "import numpy as np\n",
    "import gradio as gr\n",
    "\n",
    "import pandas as pd\n",
    "pd.set_option('max_colwidth', None)  # Do not truncate the contents of cells in the DataFrame\n",
    "pd.set_option('display.max_rows', None)  # Display all rows in the DataFrame\n",
    "pd.set_option('display.max_columns', None)  # Display all columns in the DataFrame"
   ]
  },
  {
   "cell_type": "code",
   "execution_count": 3,
   "id": "c9f1ab2a",
   "metadata": {},
   "outputs": [],
   "source": [
    "from cjm_pil_utils.core import stack_imgs, get_img_files"
   ]
  },
  {
   "cell_type": "markdown",
   "id": "093b605c",
   "metadata": {},
   "source": [
    "**Set path to dataset**"
   ]
  },
  {
   "cell_type": "code",
   "execution_count": 4,
   "id": "8477f7c2",
   "metadata": {},
   "outputs": [],
   "source": [
    "dataset_path = Path(f\"/mnt/980_1TB_2/Datasets/Pexels_Full_768p/\")\n",
    "# dataset_path = Path(\"./train_dir/cp2077-steelbook-custom-768-and-text2img\")"
   ]
  },
  {
   "cell_type": "markdown",
   "id": "aeb28857",
   "metadata": {},
   "source": [
    "**Set path to image folder**"
   ]
  },
  {
   "cell_type": "code",
   "execution_count": 5,
   "id": "2b6b38df",
   "metadata": {},
   "outputs": [],
   "source": [
    "# Set the path for the images directory\n",
    "img_dir = Path(dataset_path/\"images/\")"
   ]
  },
  {
   "cell_type": "markdown",
   "id": "6e9f7de4",
   "metadata": {},
   "source": [
    "**Get image paths**"
   ]
  },
  {
   "cell_type": "code",
   "execution_count": 6,
   "id": "edb52bba",
   "metadata": {},
   "outputs": [
    {
     "name": "stdout",
     "output_type": "stream",
     "text": [
      "109971\n"
     ]
    }
   ],
   "source": [
    "# Get a list of the paths to the images in the images directory\n",
    "img_paths = get_img_files(img_dir)\n",
    "\n",
    "# Print the number of images in the images directory\n",
    "print(len(img_paths))"
   ]
  },
  {
   "cell_type": "markdown",
   "id": "d43cd933",
   "metadata": {},
   "source": [
    "**Map image IDs to file paths**"
   ]
  },
  {
   "cell_type": "code",
   "execution_count": 7,
   "id": "64f1d1bd",
   "metadata": {},
   "outputs": [
    {
     "data": {
      "text/html": [
       "<div>\n",
       "<style scoped>\n",
       "    .dataframe tbody tr th:only-of-type {\n",
       "        vertical-align: middle;\n",
       "    }\n",
       "\n",
       "    .dataframe tbody tr th {\n",
       "        vertical-align: top;\n",
       "    }\n",
       "\n",
       "    .dataframe thead th {\n",
       "        text-align: right;\n",
       "    }\n",
       "</style>\n",
       "<table border=\"1\" class=\"dataframe\">\n",
       "  <thead>\n",
       "    <tr style=\"text-align: right;\">\n",
       "      <th></th>\n",
       "      <th>0</th>\n",
       "    </tr>\n",
       "  </thead>\n",
       "  <tbody>\n",
       "    <tr>\n",
       "      <th>1000026</th>\n",
       "      <td>/mnt/980_1TB_2/Datasets/Pexels_Full_768p/images/1000026.jpeg</td>\n",
       "    </tr>\n",
       "    <tr>\n",
       "      <th>1000037</th>\n",
       "      <td>/mnt/980_1TB_2/Datasets/Pexels_Full_768p/images/1000037.jpeg</td>\n",
       "    </tr>\n",
       "    <tr>\n",
       "      <th>1000044</th>\n",
       "      <td>/mnt/980_1TB_2/Datasets/Pexels_Full_768p/images/1000044.jpeg</td>\n",
       "    </tr>\n",
       "    <tr>\n",
       "      <th>1000054</th>\n",
       "      <td>/mnt/980_1TB_2/Datasets/Pexels_Full_768p/images/1000054.jpeg</td>\n",
       "    </tr>\n",
       "    <tr>\n",
       "      <th>1000056</th>\n",
       "      <td>/mnt/980_1TB_2/Datasets/Pexels_Full_768p/images/1000056.jpeg</td>\n",
       "    </tr>\n",
       "  </tbody>\n",
       "</table>\n",
       "</div>"
      ],
      "text/plain": [
       "                                                                    0\n",
       "1000026  /mnt/980_1TB_2/Datasets/Pexels_Full_768p/images/1000026.jpeg\n",
       "1000037  /mnt/980_1TB_2/Datasets/Pexels_Full_768p/images/1000037.jpeg\n",
       "1000044  /mnt/980_1TB_2/Datasets/Pexels_Full_768p/images/1000044.jpeg\n",
       "1000054  /mnt/980_1TB_2/Datasets/Pexels_Full_768p/images/1000054.jpeg\n",
       "1000056  /mnt/980_1TB_2/Datasets/Pexels_Full_768p/images/1000056.jpeg"
      ]
     },
     "execution_count": 7,
     "metadata": {},
     "output_type": "execute_result"
    }
   ],
   "source": [
    "# Create a dictionary mapping image IDs to image paths\n",
    "# img_path_dict = {int(path.stem.split('-')[-1]) : path for path in img_paths}\n",
    "img_path_dict = {path.stem.split('-')[-1] : path for path in img_paths}\n",
    "\n",
    "# Display the first few entries in the dictionary using a Pandas Dataframe\n",
    "pd.DataFrame.from_dict(img_path_dict, orient='index').head()"
   ]
  },
  {
   "cell_type": "markdown",
   "id": "9ec12dd3",
   "metadata": {},
   "source": [
    "**Set path to depth dataset**"
   ]
  },
  {
   "cell_type": "code",
   "execution_count": 8,
   "id": "c1c05986",
   "metadata": {},
   "outputs": [
    {
     "data": {
      "text/plain": [
       "PosixPath('/mnt/980_1TB_2/Datasets/Pexels_Full_768p-leres/images')"
      ]
     },
     "execution_count": 8,
     "metadata": {},
     "output_type": "execute_result"
    }
   ],
   "source": [
    "depth_img_dir = Path(\"/mnt/980_1TB_2/Datasets/Pexels_Full_768p-leres/images/\")\n",
    "# depth_img_dir = Path(dataset_path/\"depth\")\n",
    "depth_img_dir"
   ]
  },
  {
   "cell_type": "markdown",
   "id": "e9218a03",
   "metadata": {},
   "source": [
    "**Set path to depth image folder**"
   ]
  },
  {
   "cell_type": "code",
   "execution_count": 9,
   "id": "7355910e",
   "metadata": {},
   "outputs": [
    {
     "name": "stdout",
     "output_type": "stream",
     "text": [
      "109971\n"
     ]
    }
   ],
   "source": [
    "# Get a list of the paths to the images in the images directory\n",
    "depth_img_paths = get_img_files(depth_img_dir)\n",
    "\n",
    "# Print the number of images in the images directory\n",
    "print(len(depth_img_paths))"
   ]
  },
  {
   "cell_type": "markdown",
   "id": "76db787c",
   "metadata": {},
   "source": [
    "**Map image IDs to file paths**"
   ]
  },
  {
   "cell_type": "code",
   "execution_count": 10,
   "id": "82ffb312",
   "metadata": {},
   "outputs": [
    {
     "data": {
      "text/html": [
       "<div>\n",
       "<style scoped>\n",
       "    .dataframe tbody tr th:only-of-type {\n",
       "        vertical-align: middle;\n",
       "    }\n",
       "\n",
       "    .dataframe tbody tr th {\n",
       "        vertical-align: top;\n",
       "    }\n",
       "\n",
       "    .dataframe thead th {\n",
       "        text-align: right;\n",
       "    }\n",
       "</style>\n",
       "<table border=\"1\" class=\"dataframe\">\n",
       "  <thead>\n",
       "    <tr style=\"text-align: right;\">\n",
       "      <th></th>\n",
       "      <th>0</th>\n",
       "    </tr>\n",
       "  </thead>\n",
       "  <tbody>\n",
       "    <tr>\n",
       "      <th>1000026</th>\n",
       "      <td>/mnt/980_1TB_2/Datasets/Pexels_Full_768p-leres/images/1000026.jpeg</td>\n",
       "    </tr>\n",
       "    <tr>\n",
       "      <th>1000037</th>\n",
       "      <td>/mnt/980_1TB_2/Datasets/Pexels_Full_768p-leres/images/1000037.jpeg</td>\n",
       "    </tr>\n",
       "    <tr>\n",
       "      <th>1000044</th>\n",
       "      <td>/mnt/980_1TB_2/Datasets/Pexels_Full_768p-leres/images/1000044.jpeg</td>\n",
       "    </tr>\n",
       "    <tr>\n",
       "      <th>1000054</th>\n",
       "      <td>/mnt/980_1TB_2/Datasets/Pexels_Full_768p-leres/images/1000054.jpeg</td>\n",
       "    </tr>\n",
       "    <tr>\n",
       "      <th>1000056</th>\n",
       "      <td>/mnt/980_1TB_2/Datasets/Pexels_Full_768p-leres/images/1000056.jpeg</td>\n",
       "    </tr>\n",
       "  </tbody>\n",
       "</table>\n",
       "</div>"
      ],
      "text/plain": [
       "                                                                          0\n",
       "1000026  /mnt/980_1TB_2/Datasets/Pexels_Full_768p-leres/images/1000026.jpeg\n",
       "1000037  /mnt/980_1TB_2/Datasets/Pexels_Full_768p-leres/images/1000037.jpeg\n",
       "1000044  /mnt/980_1TB_2/Datasets/Pexels_Full_768p-leres/images/1000044.jpeg\n",
       "1000054  /mnt/980_1TB_2/Datasets/Pexels_Full_768p-leres/images/1000054.jpeg\n",
       "1000056  /mnt/980_1TB_2/Datasets/Pexels_Full_768p-leres/images/1000056.jpeg"
      ]
     },
     "execution_count": 10,
     "metadata": {},
     "output_type": "execute_result"
    }
   ],
   "source": [
    "# Create a dictionary mapping image IDs to image paths\n",
    "# depth_img_path_dict = {int(path.stem.split('-')[-1]) : path for path in depth_img_paths}\n",
    "depth_img_path_dict = {path.stem.split('-')[-1] : path for path in depth_img_paths}\n",
    "\n",
    "# Display the first few entries in the dictionary using a Pandas Dataframe\n",
    "pd.DataFrame.from_dict(depth_img_path_dict, orient='index').head()"
   ]
  },
  {
   "cell_type": "markdown",
   "id": "b31b30ae",
   "metadata": {},
   "source": [
    "**Store list of image IDs**"
   ]
  },
  {
   "cell_type": "code",
   "execution_count": 11,
   "id": "b97f39f6",
   "metadata": {},
   "outputs": [],
   "source": [
    "depth_img_ids = list(depth_img_path_dict.keys())"
   ]
  },
  {
   "cell_type": "markdown",
   "id": "ca905426",
   "metadata": {},
   "source": [
    "**Initialize list of images to delete**"
   ]
  },
  {
   "cell_type": "code",
   "execution_count": 12,
   "id": "3df33198",
   "metadata": {},
   "outputs": [],
   "source": [
    "marked_img_ids = []"
   ]
  },
  {
   "cell_type": "markdown",
   "id": "800a649a",
   "metadata": {},
   "source": [
    "**Define functions for gradio interface**"
   ]
  },
  {
   "cell_type": "code",
   "execution_count": 13,
   "id": "61cdbfae",
   "metadata": {},
   "outputs": [],
   "source": [
    "# Current index\n",
    "index = 0\n",
    "\n",
    "def get_img_stack(img_id):\n",
    "    src_img = Image.open(img_path_dict[img_id])\n",
    "    depth_img = Image.open(depth_img_path_dict[img_id])\n",
    "    return stack_imgs([src_img, depth_img])\n",
    "\n",
    "# Function to go to the previous image\n",
    "def prev_image():\n",
    "    global index\n",
    "    global marked_img_ids\n",
    "    index = index - 1 if index > 0 else len(depth_img_ids)-1\n",
    "    img_id = depth_img_ids[index]\n",
    "    btn_val = \"Unmark\" if img_id in marked_img_ids else \"Mark to Delete\"\n",
    "    return get_img_stack(img_id), btn_val\n",
    "\n",
    "# Function to go to the next image\n",
    "def next_image():\n",
    "    global index\n",
    "    global marked_img_ids\n",
    "    index = index + 1 if index < len(depth_img_ids)-1 else 0\n",
    "    img_id = depth_img_ids[index]\n",
    "    marked = img_id in marked_img_ids\n",
    "    btn_val = \"Unmark\" if img_id in marked_img_ids else \"Mark to Delete\"\n",
    "    return get_img_stack(img_id), btn_val\n",
    "\n",
    "def mark_to_delete():\n",
    "    global index\n",
    "    global marked_img_ids\n",
    "    img_id = depth_img_ids[index]\n",
    "    if img_id in marked_img_ids: \n",
    "        marked_img_ids.remove(img_id)\n",
    "        return \"Mark to Delete\"\n",
    "    else:\n",
    "        marked_img_ids.append(img_id)\n",
    "        return \"Unmark\""
   ]
  },
  {
   "cell_type": "markdown",
   "id": "a75d8087",
   "metadata": {},
   "source": [
    "**Create gradio interface**"
   ]
  },
  {
   "cell_type": "code",
   "execution_count": 14,
   "id": "5bac8ca6",
   "metadata": {
    "scrolled": false
   },
   "outputs": [
    {
     "name": "stdout",
     "output_type": "stream",
     "text": [
      "Running on local URL:  http://127.0.0.1:7860\n",
      "\n",
      "To create a public link, set `share=True` in `launch()`.\n"
     ]
    },
    {
     "data": {
      "text/html": [
       "<div><iframe src=\"http://127.0.0.1:7860/\" width=\"100%\" height=\"1800\" allow=\"autoplay; camera; microphone; clipboard-read; clipboard-write;\" frameborder=\"0\" allowfullscreen></iframe></div>"
      ],
      "text/plain": [
       "<IPython.core.display.HTML object>"
      ]
     },
     "metadata": {},
     "output_type": "display_data"
    },
    {
     "data": {
      "text/plain": []
     },
     "execution_count": 14,
     "metadata": {},
     "output_type": "execute_result"
    }
   ],
   "source": [
    "with gr.Blocks() as demo:\n",
    "    with gr.Row():\n",
    "        prev_button = gr.Button('Previous')\n",
    "        next_button = gr.Button('Next')\n",
    "    with gr.Row():\n",
    "        mark_del_button = gr.Button('Mark to Delete')\n",
    "#         mark_del_check = gr.Checkbox(value=False, label='Mark to Delete')\n",
    "    image_output = gr.Image(get_img_stack(depth_img_ids[index]))\n",
    "\n",
    "    prev_button.click(prev_image, outputs=[image_output, mark_del_button])\n",
    "    next_button.click(next_image, outputs=[image_output, mark_del_button])\n",
    "    mark_del_button.click(mark_to_delete, outputs=[mark_del_button])\n",
    "#     mark_del_check.change(mark_to_delete, outputs=None)\n",
    "        \n",
    "demo.launch(height=1800)"
   ]
  },
  {
   "cell_type": "code",
   "execution_count": 15,
   "id": "bf8e5413",
   "metadata": {},
   "outputs": [
    {
     "data": {
      "text/plain": [
       "0"
      ]
     },
     "execution_count": 15,
     "metadata": {},
     "output_type": "execute_result"
    }
   ],
   "source": [
    "len(marked_img_ids)"
   ]
  },
  {
   "cell_type": "markdown",
   "id": "53b0f026",
   "metadata": {},
   "source": [
    "**Delete marked images**"
   ]
  },
  {
   "cell_type": "code",
   "execution_count": 16,
   "id": "acb83af2",
   "metadata": {},
   "outputs": [],
   "source": [
    "for img_id in marked_img_ids:\n",
    "    depth_img_path_dict[img_id].unlink()"
   ]
  },
  {
   "cell_type": "code",
   "execution_count": null,
   "id": "545af1da",
   "metadata": {},
   "outputs": [],
   "source": []
  }
 ],
 "metadata": {
  "kernelspec": {
   "display_name": "Python 3 (ipykernel)",
   "language": "python",
   "name": "python3"
  },
  "language_info": {
   "codemirror_mode": {
    "name": "ipython",
    "version": 3
   },
   "file_extension": ".py",
   "mimetype": "text/x-python",
   "name": "python",
   "nbconvert_exporter": "python",
   "pygments_lexer": "ipython3",
   "version": "3.10.9"
  }
 },
 "nbformat": 4,
 "nbformat_minor": 5
}
