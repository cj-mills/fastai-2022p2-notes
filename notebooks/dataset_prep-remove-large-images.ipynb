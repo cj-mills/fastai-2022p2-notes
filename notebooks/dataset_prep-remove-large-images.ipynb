{
 "cells": [
  {
   "cell_type": "markdown",
   "id": "c15d7a3c",
   "metadata": {},
   "source": [
    "**Install dependencies**"
   ]
  },
  {
   "cell_type": "code",
   "execution_count": 1,
   "id": "9fda742e",
   "metadata": {},
   "outputs": [],
   "source": [
    "# %%capture\n",
    "# !pip install -U pillow numpy pandas\n",
    "# !pip install -U cjm_pil_utils cjm_parallel_utils"
   ]
  },
  {
   "cell_type": "markdown",
   "id": "ca2fac06",
   "metadata": {},
   "source": [
    "**Import dependencies**"
   ]
  },
  {
   "cell_type": "code",
   "execution_count": 2,
   "id": "65b0fcc8",
   "metadata": {},
   "outputs": [],
   "source": [
    "import random\n",
    "from pathlib import Path\n",
    "from functools import partial\n",
    "import queue\n",
    "\n",
    "from PIL import Image\n",
    "import numpy as np\n",
    "\n",
    "import pandas as pd\n",
    "pd.set_option('max_colwidth', None)  # Do not truncate the contents of cells in the DataFrame\n",
    "pd.set_option('display.max_rows', None)  # Display all rows in the DataFrame\n",
    "pd.set_option('display.max_columns', None)  # Display all columns in the DataFrame\n",
    "\n",
    "from cjm_pil_utils.core import get_img_files\n",
    "from cjm_parallel_utils.core import parallel"
   ]
  },
  {
   "cell_type": "markdown",
   "id": "3ecdcf07",
   "metadata": {},
   "source": [
    "**Define path to dataset**"
   ]
  },
  {
   "cell_type": "code",
   "execution_count": 3,
   "id": "710181c1",
   "metadata": {},
   "outputs": [],
   "source": [
    "# dataset_path = Path(f\"/mnt/980_1TB_2/Datasets/pexels-110k-512p-min-jpg/\")\n",
    "dataset_path = Path(f\"/mnt/980_1TB_2/Datasets/pexels-110k-768p-min-jpg/\")"
   ]
  },
  {
   "cell_type": "code",
   "execution_count": 4,
   "id": "67366935",
   "metadata": {},
   "outputs": [],
   "source": [
    "# Set the path for the images directory\n",
    "img_dir = Path(dataset_path/\"images\")"
   ]
  },
  {
   "cell_type": "code",
   "execution_count": 5,
   "id": "7f181d0a",
   "metadata": {},
   "outputs": [
    {
     "name": "stdout",
     "output_type": "stream",
     "text": [
      "109971\n"
     ]
    }
   ],
   "source": [
    "# Get a list of the paths to the images in the images directory\n",
    "img_paths = get_img_files(img_dir)\n",
    "\n",
    "# Print the number of images in the images directory\n",
    "print(len(img_paths))"
   ]
  },
  {
   "cell_type": "code",
   "execution_count": 6,
   "id": "e1d38445",
   "metadata": {},
   "outputs": [
    {
     "data": {
      "text/html": [
       "<div>\n",
       "<style scoped>\n",
       "    .dataframe tbody tr th:only-of-type {\n",
       "        vertical-align: middle;\n",
       "    }\n",
       "\n",
       "    .dataframe tbody tr th {\n",
       "        vertical-align: top;\n",
       "    }\n",
       "\n",
       "    .dataframe thead th {\n",
       "        text-align: right;\n",
       "    }\n",
       "</style>\n",
       "<table border=\"1\" class=\"dataframe\">\n",
       "  <thead>\n",
       "    <tr style=\"text-align: right;\">\n",
       "      <th></th>\n",
       "      <th>0</th>\n",
       "    </tr>\n",
       "  </thead>\n",
       "  <tbody>\n",
       "    <tr>\n",
       "      <th>1061142</th>\n",
       "      <td>/mnt/980_1TB_2/Datasets/pexels-110k-768p-min-jpg/images/1-art-background-1061142.jpg</td>\n",
       "    </tr>\n",
       "    <tr>\n",
       "      <th>2586334</th>\n",
       "      <td>/mnt/980_1TB_2/Datasets/pexels-110k-768p-min-jpg/images/1-person-beauty-face-blurred-background-2586334.jpg</td>\n",
       "    </tr>\n",
       "    <tr>\n",
       "      <th>1460032</th>\n",
       "      <td>/mnt/980_1TB_2/Datasets/pexels-110k-768p-min-jpg/images/1-wtc-artist-concert-1460032.jpg</td>\n",
       "    </tr>\n",
       "    <tr>\n",
       "      <th>1061133</th>\n",
       "      <td>/mnt/980_1TB_2/Datasets/pexels-110k-768p-min-jpg/images/10-art-artistic-1061133.jpg</td>\n",
       "    </tr>\n",
       "    <tr>\n",
       "      <th>1339845</th>\n",
       "      <td>/mnt/980_1TB_2/Datasets/pexels-110k-768p-min-jpg/images/10-art-color-1339845.jpg</td>\n",
       "    </tr>\n",
       "  </tbody>\n",
       "</table>\n",
       "</div>"
      ],
      "text/plain": [
       "                                                                                                                   0\n",
       "1061142                         /mnt/980_1TB_2/Datasets/pexels-110k-768p-min-jpg/images/1-art-background-1061142.jpg\n",
       "2586334  /mnt/980_1TB_2/Datasets/pexels-110k-768p-min-jpg/images/1-person-beauty-face-blurred-background-2586334.jpg\n",
       "1460032                     /mnt/980_1TB_2/Datasets/pexels-110k-768p-min-jpg/images/1-wtc-artist-concert-1460032.jpg\n",
       "1061133                          /mnt/980_1TB_2/Datasets/pexels-110k-768p-min-jpg/images/10-art-artistic-1061133.jpg\n",
       "1339845                             /mnt/980_1TB_2/Datasets/pexels-110k-768p-min-jpg/images/10-art-color-1339845.jpg"
      ]
     },
     "execution_count": 6,
     "metadata": {},
     "output_type": "execute_result"
    }
   ],
   "source": [
    "# Create a dictionary mapping image IDs to image paths\n",
    "img_path_dict = {int(path.stem.split('-')[-1]) : path for path in img_paths}\n",
    "\n",
    "# Display the first few entries in the dictionary using a Pandas Dataframe\n",
    "pd.DataFrame.from_dict(img_path_dict, orient='index').head()"
   ]
  },
  {
   "cell_type": "code",
   "execution_count": 7,
   "id": "ef85ea04",
   "metadata": {},
   "outputs": [],
   "source": [
    "img_ids = list(img_path_dict.keys())"
   ]
  },
  {
   "cell_type": "markdown",
   "id": "d72fa9c1",
   "metadata": {},
   "source": [
    "**Define function to apply to an array of image IDs**"
   ]
  },
  {
   "cell_type": "code",
   "execution_count": 8,
   "id": "e7975ba0",
   "metadata": {},
   "outputs": [],
   "source": [
    "def array_func(img_id, img_path_dict, img_id_queue, max_size):\n",
    "    \"\"\"\n",
    "    Add the image ID to the queue if the associated image is greater than or equal\n",
    "    to the given maximum size.\n",
    "    \n",
    "    Parameters:\n",
    "        img_id (int): ID of the image to be processed.\n",
    "        img_path_dict (dict): A dictionary that maps image IDs to their file paths.\n",
    "        img_id_queue (queue): A queue to hold the IDs of images that meet the size requirement.\n",
    "        max_size (int): The maximum size of the image's dimension.\n",
    "    \"\"\"\n",
    "    # Check if the maximum dimension of the image is greater than or equal to max_size\n",
    "    if max(Image.open(img_path_dict[img_id]).size) >= max_size:\n",
    "        # If it is, add the image ID to the queue\n",
    "        img_id_queue.put(img_id)"
   ]
  },
  {
   "cell_type": "code",
   "execution_count": 9,
   "id": "d5df22f1",
   "metadata": {},
   "outputs": [
    {
     "data": {
      "text/plain": [
       "2104072"
      ]
     },
     "execution_count": 9,
     "metadata": {},
     "output_type": "execute_result"
    }
   ],
   "source": [
    "img_id = random.choice(img_ids)\n",
    "img_id"
   ]
  },
  {
   "cell_type": "code",
   "execution_count": 10,
   "id": "daae0d05",
   "metadata": {},
   "outputs": [],
   "source": [
    "img_id_queue = queue.Queue()"
   ]
  },
  {
   "cell_type": "code",
   "execution_count": 11,
   "id": "226d5953",
   "metadata": {},
   "outputs": [],
   "source": [
    "max_size = 1500"
   ]
  },
  {
   "cell_type": "markdown",
   "id": "071a4704",
   "metadata": {},
   "source": [
    "**Test array function**"
   ]
  },
  {
   "cell_type": "code",
   "execution_count": 12,
   "id": "10c43306",
   "metadata": {},
   "outputs": [
    {
     "data": {
      "text/plain": [
       "deque([])"
      ]
     },
     "execution_count": 12,
     "metadata": {},
     "output_type": "execute_result"
    }
   ],
   "source": [
    "# Use the `array_func` function to \n",
    "array_func(img_id, img_path_dict, img_id_queue, max_size)\n",
    "\n",
    "img_id_queue.queue"
   ]
  },
  {
   "cell_type": "markdown",
   "id": "ae6cb653",
   "metadata": {},
   "source": [
    "**Encode images in parallel**"
   ]
  },
  {
   "cell_type": "code",
   "execution_count": 13,
   "id": "d99d9a93",
   "metadata": {},
   "outputs": [
    {
     "data": {
      "application/vnd.jupyter.widget-view+json": {
       "model_id": "",
       "version_major": 2,
       "version_minor": 0
      },
      "text/plain": [
       "  0%|          | 0/109971 [00:00<?, ?it/s]"
      ]
     },
     "metadata": {},
     "output_type": "display_data"
    }
   ],
   "source": [
    "# \n",
    "partial_func = partial(array_func, img_path_dict=img_path_dict, img_id_queue=img_id_queue, max_size=max_size)\n",
    "\n",
    "# Use the `parallel` function\n",
    "parallel(func=partial_func, arr=img_ids)"
   ]
  },
  {
   "cell_type": "code",
   "execution_count": 14,
   "id": "71416ad8",
   "metadata": {},
   "outputs": [
    {
     "data": {
      "text/plain": [
       "0"
      ]
     },
     "execution_count": 14,
     "metadata": {},
     "output_type": "execute_result"
    }
   ],
   "source": [
    "len(img_id_queue.queue)"
   ]
  },
  {
   "cell_type": "code",
   "execution_count": 15,
   "id": "038b8acd",
   "metadata": {},
   "outputs": [
    {
     "ename": "NameError",
     "evalue": "name 'stop' is not defined",
     "output_type": "error",
     "traceback": [
      "\u001b[0;31m---------------------------------------------------------------------------\u001b[0m",
      "\u001b[0;31mNameError\u001b[0m                                 Traceback (most recent call last)",
      "Cell \u001b[0;32mIn[15], line 1\u001b[0m\n\u001b[0;32m----> 1\u001b[0m \u001b[43mstop\u001b[49m\n",
      "\u001b[0;31mNameError\u001b[0m: name 'stop' is not defined"
     ]
    }
   ],
   "source": [
    "stop"
   ]
  },
  {
   "cell_type": "markdown",
   "id": "bfa34fb7",
   "metadata": {},
   "source": [
    "**Save list of large images**"
   ]
  },
  {
   "cell_type": "code",
   "execution_count": null,
   "id": "aff599d5",
   "metadata": {},
   "outputs": [],
   "source": [
    "with open(\"large_img_ids.txt\", \"w\") as write_file:\n",
    "    for img_id in list(img_id_queue.queue):\n",
    "        write_file.writelines(f\"{img_id}\\n\")"
   ]
  },
  {
   "cell_type": "markdown",
   "id": "109fe75d",
   "metadata": {},
   "source": [
    "**Delete large images**"
   ]
  },
  {
   "cell_type": "code",
   "execution_count": null,
   "id": "aed5de11",
   "metadata": {},
   "outputs": [],
   "source": [
    "for img_id in list(img_id_queue.queue):\n",
    "    img_path_dict[img_id].unlink()"
   ]
  },
  {
   "cell_type": "markdown",
   "id": "94717a07",
   "metadata": {},
   "source": [
    "**Set file path for attributes DataFrame**"
   ]
  },
  {
   "cell_type": "code",
   "execution_count": null,
   "id": "5a8bcf82",
   "metadata": {},
   "outputs": [],
   "source": [
    "# Set the file path for the attributes dataframe\n",
    "attributes_df_json_file = Path(dataset_path/'attributes_df.json')\n",
    "\n",
    "# Print the file path\n",
    "print(attributes_df_json_file)"
   ]
  },
  {
   "cell_type": "markdown",
   "id": "64fe23f7",
   "metadata": {},
   "source": [
    "**Load attributes DataFrame**"
   ]
  },
  {
   "cell_type": "code",
   "execution_count": null,
   "id": "c8b7ec5f",
   "metadata": {},
   "outputs": [],
   "source": [
    "# Read the attributes dataframe from the JSON file\n",
    "attributes_df = pd.read_json(attributes_df_json_file)\n",
    "\n",
    "# Print the number of entries in the dataframe\n",
    "print(f\"Number of entries: {len(attributes_df)}\")\n",
    "\n",
    "# Display the first few rows of the dataframe\n",
    "attributes_df.head().transpose()"
   ]
  },
  {
   "cell_type": "markdown",
   "id": "21e5fd37",
   "metadata": {},
   "source": [
    "**Remove attributes for large images from DataFrame**"
   ]
  },
  {
   "cell_type": "code",
   "execution_count": null,
   "id": "cd91b6db",
   "metadata": {},
   "outputs": [],
   "source": [
    "attributes_df = attributes_df.drop(list(img_id_queue.queue))\n",
    "len(attributes_df)"
   ]
  },
  {
   "cell_type": "code",
   "execution_count": null,
   "id": "2bd79a81",
   "metadata": {},
   "outputs": [],
   "source": [
    "attributes_df.to_json(attributes_df_json_file)"
   ]
  }
 ],
 "metadata": {
  "kernelspec": {
   "display_name": "Python 3 (ipykernel)",
   "language": "python",
   "name": "python3"
  },
  "language_info": {
   "codemirror_mode": {
    "name": "ipython",
    "version": 3
   },
   "file_extension": ".py",
   "mimetype": "text/x-python",
   "name": "python",
   "nbconvert_exporter": "python",
   "pygments_lexer": "ipython3",
   "version": "3.10.9"
  }
 },
 "nbformat": 4,
 "nbformat_minor": 5
}
