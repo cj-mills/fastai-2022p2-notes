{
 "cells": [
  {
   "cell_type": "markdown",
   "id": "352f6ae4",
   "metadata": {},
   "source": [
    "**Install dependencies**"
   ]
  },
  {
   "cell_type": "code",
   "execution_count": 1,
   "id": "6ec33ebd",
   "metadata": {},
   "outputs": [],
   "source": [
    "# %%capture\n",
    "# !pip install onnx\n",
    "# !pip install onnxruntime\n",
    "# !pip install onnx-tf\n",
    "# !pip install tensorflow\n",
    "# !pip install -U tensorflowjs\n",
    "# !pip install simple-onnx-processing-tools\n",
    "# !pip install nvidia-pyindex\n",
    "# !pip install onnx-graphsurgeon\n",
    "# !pip install tensorflow-probability"
   ]
  },
  {
   "cell_type": "markdown",
   "id": "54db2068",
   "metadata": {},
   "source": [
    "**Import dependencies**"
   ]
  },
  {
   "cell_type": "code",
   "execution_count": 2,
   "id": "4ea9405c",
   "metadata": {},
   "outputs": [],
   "source": [
    "import os\n",
    "from glob import glob\n",
    "\n",
    "from pathlib import Path\n",
    "\n",
    "# Import pandas module for data manipulation\n",
    "import pandas as pd\n",
    "\n",
    "# Set options for Pandas DataFrame display\n",
    "pd.set_option('max_colwidth', None)  # Do not truncate the contents of cells in the DataFrame\n",
    "pd.set_option('display.max_rows', None)  # Display all rows in the DataFrame\n",
    "pd.set_option('display.max_columns', None)  # Display all columns in the DataFrame\n",
    "\n",
    "import onnx"
   ]
  },
  {
   "cell_type": "code",
   "execution_count": 3,
   "id": "bdc7e41c",
   "metadata": {},
   "outputs": [],
   "source": [
    "from scc4onnx import order_conversion"
   ]
  },
  {
   "cell_type": "code",
   "execution_count": 4,
   "id": "19c6e8bf",
   "metadata": {},
   "outputs": [
    {
     "name": "stderr",
     "output_type": "stream",
     "text": [
      "2023-03-11 11:30:38.295081: I tensorflow/core/platform/cpu_feature_guard.cc:193] This TensorFlow binary is optimized with oneAPI Deep Neural Network Library (oneDNN) to use the following CPU instructions in performance-critical operations:  AVX2 AVX512F AVX512_VNNI FMA\n",
      "To enable them in other operations, rebuild TensorFlow with the appropriate compiler flags.\n",
      "2023-03-11 11:30:38.362871: I tensorflow/core/util/port.cc:104] oneDNN custom operations are on. You may see slightly different numerical results due to floating-point round-off errors from different computation orders. To turn them off, set the environment variable `TF_ENABLE_ONEDNN_OPTS=0`.\n",
      "2023-03-11 11:30:38.733446: W tensorflow/compiler/xla/stream_executor/platform/default/dso_loader.cc:64] Could not load dynamic library 'libnvinfer.so.7'; dlerror: libnvinfer.so.7: cannot open shared object file: No such file or directory\n",
      "2023-03-11 11:30:38.733482: W tensorflow/compiler/xla/stream_executor/platform/default/dso_loader.cc:64] Could not load dynamic library 'libnvinfer_plugin.so.7'; dlerror: libnvinfer_plugin.so.7: cannot open shared object file: No such file or directory\n",
      "2023-03-11 11:30:38.733486: W tensorflow/compiler/tf2tensorrt/utils/py_utils.cc:38] TF-TRT Warning: Cannot dlopen some TensorRT libraries. If you would like to use Nvidia GPU with TensorRT, please make sure the missing libraries mentioned above are installed properly.\n"
     ]
    }
   ],
   "source": [
    "from onnx_tf.backend import prepare"
   ]
  },
  {
   "cell_type": "markdown",
   "id": "0d3497ee",
   "metadata": {},
   "source": [
    "**Define data directory**"
   ]
  },
  {
   "cell_type": "code",
   "execution_count": 5,
   "id": "6ef58343",
   "metadata": {},
   "outputs": [
    {
     "data": {
      "text/plain": [
       "PosixPath('miniai_data_augmentation_seed-1234')"
      ]
     },
     "execution_count": 5,
     "metadata": {},
     "output_type": "execute_result"
    }
   ],
   "source": [
    "# Create a directory to store the checkpoints if it does not already exist\n",
    "# checkpoint_dir = Path(\"./miniai_data_augmentation_seed-1/\")\n",
    "# checkpoint_dir = Path(\"./miniai_data_augmentation_seed-42/\")\n",
    "# checkpoint_dir = Path(\"./miniai_data_augmentation_seed-100/\")\n",
    "checkpoint_dir = Path(\"./miniai_data_augmentation_seed-1234/\")\n",
    "checkpoint_dir.mkdir(parents=True, exist_ok=True)\n",
    "\n",
    "# Print the checkpoint path\n",
    "checkpoint_dir"
   ]
  },
  {
   "cell_type": "markdown",
   "id": "6ae87dd4",
   "metadata": {},
   "source": [
    "**Get available ONNX files**"
   ]
  },
  {
   "cell_type": "code",
   "execution_count": 6,
   "id": "837c4f58",
   "metadata": {},
   "outputs": [
    {
     "data": {
      "text/html": [
       "<div>\n",
       "<style scoped>\n",
       "    .dataframe tbody tr th:only-of-type {\n",
       "        vertical-align: middle;\n",
       "    }\n",
       "\n",
       "    .dataframe tbody tr th {\n",
       "        vertical-align: top;\n",
       "    }\n",
       "\n",
       "    .dataframe thead th {\n",
       "        text-align: right;\n",
       "    }\n",
       "</style>\n",
       "<table border=\"1\" class=\"dataframe\">\n",
       "  <thead>\n",
       "    <tr style=\"text-align: right;\">\n",
       "      <th></th>\n",
       "      <th>0</th>\n",
       "    </tr>\n",
       "  </thead>\n",
       "  <tbody>\n",
       "    <tr>\n",
       "      <th>0</th>\n",
       "      <td>resnet18-baseline-opset-12-float32.onnx</td>\n",
       "    </tr>\n",
       "    <tr>\n",
       "      <th>1</th>\n",
       "      <td>resnet18-custom-trivial-aug-1-opset-12-float32.onnx</td>\n",
       "    </tr>\n",
       "    <tr>\n",
       "      <th>2</th>\n",
       "      <td>resnet18-rand-pixel-cp-1-opset-12-float32.onnx</td>\n",
       "    </tr>\n",
       "    <tr>\n",
       "      <th>3</th>\n",
       "      <td>resnet18-rand-square-cp-1-opset-12-float32.onnx</td>\n",
       "    </tr>\n",
       "    <tr>\n",
       "      <th>4</th>\n",
       "      <td>resnet18-rand-square-pixel-cp-1-opset-12-float32.onnx</td>\n",
       "    </tr>\n",
       "    <tr>\n",
       "      <th>5</th>\n",
       "      <td>resnet18-trivial-aug-item-1-opset-12-float32.onnx</td>\n",
       "    </tr>\n",
       "    <tr>\n",
       "      <th>6</th>\n",
       "      <td>resnet18d-custom-trivial-aug-1-opset-12-float32.onnx</td>\n",
       "    </tr>\n",
       "  </tbody>\n",
       "</table>\n",
       "</div>"
      ],
      "text/plain": [
       "                                                       0\n",
       "0                resnet18-baseline-opset-12-float32.onnx\n",
       "1    resnet18-custom-trivial-aug-1-opset-12-float32.onnx\n",
       "2         resnet18-rand-pixel-cp-1-opset-12-float32.onnx\n",
       "3        resnet18-rand-square-cp-1-opset-12-float32.onnx\n",
       "4  resnet18-rand-square-pixel-cp-1-opset-12-float32.onnx\n",
       "5      resnet18-trivial-aug-item-1-opset-12-float32.onnx\n",
       "6   resnet18d-custom-trivial-aug-1-opset-12-float32.onnx"
      ]
     },
     "execution_count": 6,
     "metadata": {},
     "output_type": "execute_result"
    }
   ],
   "source": [
    "onnx_paths = [Path(path) for path in glob(os.path.join(checkpoint_dir, f\"*.onnx\"))]\n",
    "pd.DataFrame([path.name for path in onnx_paths])"
   ]
  },
  {
   "cell_type": "markdown",
   "id": "65ba9069",
   "metadata": {},
   "source": [
    "**Select ONNX model**"
   ]
  },
  {
   "cell_type": "code",
   "execution_count": 7,
   "id": "b0c663ad",
   "metadata": {},
   "outputs": [
    {
     "data": {
      "text/plain": [
       "'resnet18-trivial-aug-item-1-opset-12-float32.onnx'"
      ]
     },
     "execution_count": 7,
     "metadata": {},
     "output_type": "execute_result"
    }
   ],
   "source": [
    "onnx_model_path = onnx_paths[5]\n",
    "onnx_model_path.name"
   ]
  },
  {
   "cell_type": "markdown",
   "id": "3ab6cd54",
   "metadata": {},
   "source": [
    "**Load ONNX model**"
   ]
  },
  {
   "cell_type": "code",
   "execution_count": 8,
   "id": "1711c1b8",
   "metadata": {},
   "outputs": [],
   "source": [
    "onnx_model = onnx.load(onnx_model_path)"
   ]
  },
  {
   "cell_type": "markdown",
   "id": "cbabfbe3",
   "metadata": {},
   "source": [
    "**Inspect model input**"
   ]
  },
  {
   "cell_type": "code",
   "execution_count": 9,
   "id": "c2ba6a6d",
   "metadata": {},
   "outputs": [
    {
     "data": {
      "text/plain": [
       "name: \"input.1\"\n",
       "type {\n",
       "  tensor_type {\n",
       "    elem_type: 1\n",
       "    shape {\n",
       "      dim {\n",
       "        dim_value: 1\n",
       "      }\n",
       "      dim {\n",
       "        dim_value: 3\n",
       "      }\n",
       "      dim {\n",
       "        dim_value: 224\n",
       "      }\n",
       "      dim {\n",
       "        dim_value: 224\n",
       "      }\n",
       "    }\n",
       "  }\n",
       "}"
      ]
     },
     "execution_count": 9,
     "metadata": {},
     "output_type": "execute_result"
    }
   ],
   "source": [
    "onnx_model.graph.input[0]"
   ]
  },
  {
   "cell_type": "markdown",
   "id": "0f78e420",
   "metadata": {},
   "source": [
    "**Get input name**"
   ]
  },
  {
   "cell_type": "code",
   "execution_count": 10,
   "id": "e3bb4345",
   "metadata": {},
   "outputs": [
    {
     "data": {
      "text/plain": [
       "'input.1'"
      ]
     },
     "execution_count": 10,
     "metadata": {},
     "output_type": "execute_result"
    }
   ],
   "source": [
    "input_name = onnx_model.graph.input[0].name\n",
    "input_name"
   ]
  },
  {
   "cell_type": "markdown",
   "id": "4c38340c",
   "metadata": {},
   "source": [
    "**Convert model input to channels-last format**"
   ]
  },
  {
   "cell_type": "code",
   "execution_count": 11,
   "id": "a5013bf4",
   "metadata": {},
   "outputs": [],
   "source": [
    "onnx_model = order_conversion(\n",
    "    onnx_graph=onnx_model,\n",
    "    input_op_names_and_order_dims={f\"{input_name}\": [0,2,3,1]},\n",
    "    non_verbose=True\n",
    ")"
   ]
  },
  {
   "cell_type": "markdown",
   "id": "a260a9ed",
   "metadata": {},
   "source": [
    "**Inspect updated model input**"
   ]
  },
  {
   "cell_type": "code",
   "execution_count": 12,
   "id": "19c3df6d",
   "metadata": {},
   "outputs": [
    {
     "data": {
      "text/plain": [
       "name: \"input.1\"\n",
       "type {\n",
       "  tensor_type {\n",
       "    elem_type: 1\n",
       "    shape {\n",
       "      dim {\n",
       "        dim_value: 1\n",
       "      }\n",
       "      dim {\n",
       "        dim_value: 224\n",
       "      }\n",
       "      dim {\n",
       "        dim_value: 224\n",
       "      }\n",
       "      dim {\n",
       "        dim_value: 3\n",
       "      }\n",
       "    }\n",
       "  }\n",
       "}"
      ]
     },
     "execution_count": 12,
     "metadata": {},
     "output_type": "execute_result"
    }
   ],
   "source": [
    "onnx_model.graph.input[0]"
   ]
  },
  {
   "cell_type": "markdown",
   "id": "c34d8706",
   "metadata": {},
   "source": [
    "**Prepare ONNX model for Tensorflow Backend**"
   ]
  },
  {
   "cell_type": "code",
   "execution_count": 13,
   "id": "ce82169d",
   "metadata": {},
   "outputs": [
    {
     "name": "stderr",
     "output_type": "stream",
     "text": [
      "2023-03-11 11:30:39.781458: I tensorflow/compiler/xla/stream_executor/cuda/cuda_gpu_executor.cc:981] successful NUMA node read from SysFS had negative value (-1), but there must be at least one NUMA node, so returning NUMA node zero\n",
      "2023-03-11 11:30:39.807116: I tensorflow/compiler/xla/stream_executor/cuda/cuda_gpu_executor.cc:981] successful NUMA node read from SysFS had negative value (-1), but there must be at least one NUMA node, so returning NUMA node zero\n",
      "2023-03-11 11:30:39.807238: I tensorflow/compiler/xla/stream_executor/cuda/cuda_gpu_executor.cc:981] successful NUMA node read from SysFS had negative value (-1), but there must be at least one NUMA node, so returning NUMA node zero\n",
      "2023-03-11 11:30:39.808002: I tensorflow/compiler/xla/stream_executor/cuda/cuda_gpu_executor.cc:981] successful NUMA node read from SysFS had negative value (-1), but there must be at least one NUMA node, so returning NUMA node zero\n",
      "2023-03-11 11:30:39.808112: I tensorflow/compiler/xla/stream_executor/cuda/cuda_gpu_executor.cc:981] successful NUMA node read from SysFS had negative value (-1), but there must be at least one NUMA node, so returning NUMA node zero\n",
      "2023-03-11 11:30:39.808197: I tensorflow/compiler/xla/stream_executor/cuda/cuda_gpu_executor.cc:981] successful NUMA node read from SysFS had negative value (-1), but there must be at least one NUMA node, so returning NUMA node zero\n",
      "2023-03-11 11:30:40.121847: I tensorflow/compiler/xla/stream_executor/cuda/cuda_gpu_executor.cc:981] successful NUMA node read from SysFS had negative value (-1), but there must be at least one NUMA node, so returning NUMA node zero\n",
      "2023-03-11 11:30:40.121983: I tensorflow/compiler/xla/stream_executor/cuda/cuda_gpu_executor.cc:981] successful NUMA node read from SysFS had negative value (-1), but there must be at least one NUMA node, so returning NUMA node zero\n",
      "2023-03-11 11:30:40.122073: I tensorflow/compiler/xla/stream_executor/cuda/cuda_gpu_executor.cc:981] successful NUMA node read from SysFS had negative value (-1), but there must be at least one NUMA node, so returning NUMA node zero\n",
      "2023-03-11 11:30:40.122153: I tensorflow/core/common_runtime/gpu/gpu_device.cc:1613] Created device /job:localhost/replica:0/task:0/device:GPU:0 with 18099 MB memory:  -> device: 0, name: NVIDIA TITAN RTX, pci bus id: 0000:01:00.0, compute capability: 7.5\n"
     ]
    }
   ],
   "source": [
    "tf_rep = prepare(onnx_model)"
   ]
  },
  {
   "cell_type": "markdown",
   "id": "56c17dbf",
   "metadata": {},
   "source": [
    "**Define path for TensorFlow [saved model](https://www.tensorflow.org/guide/saved_model) directory**"
   ]
  },
  {
   "cell_type": "code",
   "execution_count": 14,
   "id": "035f58c1",
   "metadata": {},
   "outputs": [
    {
     "data": {
      "text/plain": [
       "'miniai_data_augmentation_seed-1234/resnet18-trivial-aug-item-1-opset-12-float32'"
      ]
     },
     "execution_count": 14,
     "metadata": {},
     "output_type": "execute_result"
    }
   ],
   "source": [
    "tf_model_dir = f\"{checkpoint_dir}/{onnx_model_path.name.split('.')[0]}\"\n",
    "tf_model_dir"
   ]
  },
  {
   "cell_type": "markdown",
   "id": "a8f47642",
   "metadata": {},
   "source": [
    "**Export backend representation to a Tensorflow proto file**"
   ]
  },
  {
   "cell_type": "code",
   "execution_count": 15,
   "id": "adf5c1ac",
   "metadata": {},
   "outputs": [
    {
     "name": "stdout",
     "output_type": "stream",
     "text": [
      "WARNING:tensorflow:From /home/innom-dt/mambaforge/envs/onnx-tf/lib/python3.10/site-packages/tensorflow/python/autograph/pyct/static_analysis/liveness.py:83: Analyzer.lamba_check (from tensorflow.python.autograph.pyct.static_analysis.liveness) is deprecated and will be removed after 2023-09-23.\n",
      "Instructions for updating:\n",
      "Lambda fuctions will be no more assumed to be used in the statement where they are used, or at least in the same block. https://github.com/tensorflow/tensorflow/issues/56089\n"
     ]
    },
    {
     "name": "stderr",
     "output_type": "stream",
     "text": [
      "WARNING:absl:Function `__call__` contains input name(s) input.1 with unsupported characters which will be renamed to input_1 in the SavedModel.\n",
      "WARNING:absl:Found untraced functions such as gen_tensor_dict while saving (showing 1 of 1). These functions will not be directly callable after loading.\n"
     ]
    },
    {
     "name": "stdout",
     "output_type": "stream",
     "text": [
      "INFO:tensorflow:Assets written to: miniai_data_augmentation_seed-1234/resnet18-trivial-aug-item-1-opset-12-float32/assets\n"
     ]
    },
    {
     "name": "stderr",
     "output_type": "stream",
     "text": [
      "INFO:tensorflow:Assets written to: miniai_data_augmentation_seed-1234/resnet18-trivial-aug-item-1-opset-12-float32/assets\n"
     ]
    }
   ],
   "source": [
    "tf_rep.export_graph(tf_model_dir)"
   ]
  },
  {
   "cell_type": "markdown",
   "id": "645b82ff",
   "metadata": {},
   "source": [
    "**Define directory path to store tfjs model files**"
   ]
  },
  {
   "cell_type": "code",
   "execution_count": 16,
   "id": "4d22ba57",
   "metadata": {},
   "outputs": [
    {
     "data": {
      "text/plain": [
       "'miniai_data_augmentation_seed-1234/resnet18-trivial-aug-item-1-opset-12-float32-tfjs-uint8'"
      ]
     },
     "execution_count": 16,
     "metadata": {},
     "output_type": "execute_result"
    }
   ],
   "source": [
    "tfjs_model_dir = f\"{tf_model_dir}-tfjs-uint8\"\n",
    "tfjs_model_dir"
   ]
  },
  {
   "cell_type": "markdown",
   "id": "343a8b16",
   "metadata": {},
   "source": [
    "**Define arguments for tfjs converter script**"
   ]
  },
  {
   "cell_type": "code",
   "execution_count": 17,
   "id": "90f42e56",
   "metadata": {},
   "outputs": [
    {
     "data": {
      "text/plain": [
       "'tensorflowjs_converter --input_format=tf_saved_model --output_format=tfjs_graph_model --signature_name=serving_default --saved_model_tags=serve \"miniai_data_augmentation_seed-1234/resnet18-trivial-aug-item-1-opset-12-float32\" \"miniai_data_augmentation_seed-1234/resnet18-trivial-aug-item-1-opset-12-float32-tfjs-uint8\" \"--quantize_uint8\"'"
      ]
     },
     "execution_count": 17,
     "metadata": {},
     "output_type": "execute_result"
    }
   ],
   "source": [
    "tfjs_convert_command = f\"\"\"tensorflowjs_converter\n",
    "                 --input_format=tf_saved_model \n",
    "                 --output_format=tfjs_graph_model \n",
    "                 --signature_name=serving_default \n",
    "                 --saved_model_tags=serve \n",
    "                 \"{tf_model_dir}\" \n",
    "                 \"{tfjs_model_dir}\"\n",
    "                 \"--quantize_uint8\"\n",
    "                 \"\"\"\n",
    "tfjs_convert_command = \" \".join(tfjs_convert_command.split())\n",
    "tfjs_convert_command"
   ]
  },
  {
   "cell_type": "markdown",
   "id": "85e93ee9",
   "metadata": {},
   "source": [
    "**Export SavedModel to TFJS format**"
   ]
  },
  {
   "cell_type": "code",
   "execution_count": 18,
   "id": "656cbab5",
   "metadata": {},
   "outputs": [
    {
     "name": "stdout",
     "output_type": "stream",
     "text": [
      "Exporting TensorFlow SavedModel to TensorFlow.js Graph model...\n",
      "2023-03-11 11:30:44.070424: W tensorflow/compiler/xla/stream_executor/platform/default/dso_loader.cc:64] Could not load dynamic library 'libnvinfer.so.7'; dlerror: libnvinfer.so.7: cannot open shared object file: No such file or directory\n",
      "2023-03-11 11:30:44.070458: W tensorflow/compiler/xla/stream_executor/platform/default/dso_loader.cc:64] Could not load dynamic library 'libnvinfer_plugin.so.7'; dlerror: libnvinfer_plugin.so.7: cannot open shared object file: No such file or directory\n",
      "2023-03-11 11:30:44.070462: W tensorflow/compiler/tf2tensorrt/utils/py_utils.cc:38] TF-TRT Warning: Cannot dlopen some TensorRT libraries. If you would like to use Nvidia GPU with TensorRT, please make sure the missing libraries mentioned above are installed properly.\n",
      "Writing weight file miniai_data_augmentation_seed-1234/resnet18-trivial-aug-item-1-opset-12-float32-tfjs-uint8/model.json...\n"
     ]
    }
   ],
   "source": [
    "print(\"Exporting TensorFlow SavedModel to TensorFlow.js Graph model...\")\n",
    "conversion_result = %sx $tfjs_convert_command\n",
    "print(\"\\n\".join(conversion_result))"
   ]
  },
  {
   "cell_type": "markdown",
   "id": "86b57954",
   "metadata": {},
   "source": [
    "**Archive tfjs folder for download**"
   ]
  },
  {
   "cell_type": "code",
   "execution_count": 19,
   "id": "84562be0",
   "metadata": {},
   "outputs": [
    {
     "name": "stdout",
     "output_type": "stream",
     "text": [
      "miniai_data_augmentation_seed-1234/resnet18-trivial-aug-item-1-opset-12-float32-tfjs-uint8/\n",
      "miniai_data_augmentation_seed-1234/resnet18-trivial-aug-item-1-opset-12-float32-tfjs-uint8/group1-shard1of3.bin\n",
      "miniai_data_augmentation_seed-1234/resnet18-trivial-aug-item-1-opset-12-float32-tfjs-uint8/group1-shard2of3.bin\n",
      "miniai_data_augmentation_seed-1234/resnet18-trivial-aug-item-1-opset-12-float32-tfjs-uint8/group1-shard3of3.bin\n",
      "miniai_data_augmentation_seed-1234/resnet18-trivial-aug-item-1-opset-12-float32-tfjs-uint8/model.json\n"
     ]
    }
   ],
   "source": [
    "!tar vcfz {tfjs_model_dir}.tar.gz {tfjs_model_dir}"
   ]
  },
  {
   "cell_type": "code",
   "execution_count": null,
   "id": "2892a63f",
   "metadata": {},
   "outputs": [],
   "source": []
  }
 ],
 "metadata": {
  "kernelspec": {
   "display_name": "Python 3 (ipykernel)",
   "language": "python",
   "name": "python3"
  },
  "language_info": {
   "codemirror_mode": {
    "name": "ipython",
    "version": 3
   },
   "file_extension": ".py",
   "mimetype": "text/x-python",
   "name": "python",
   "nbconvert_exporter": "python",
   "pygments_lexer": "ipython3",
   "version": "3.10.0"
  }
 },
 "nbformat": 4,
 "nbformat_minor": 5
}
